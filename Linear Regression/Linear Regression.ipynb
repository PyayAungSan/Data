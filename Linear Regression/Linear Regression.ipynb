{
 "cells": [
  {
   "cell_type": "code",
   "execution_count": 737,
   "metadata": {
    "collapsed": true,
    "scrolled": true
   },
   "outputs": [],
   "source": [
    "import pandas as pd\n",
    "import mynumpy as np\n",
    "import matplotlib.pyplot as plt\n",
    "import plotly.plotly as py\n",
    "%matplotlib inline\n",
    "from sklearn import linear_model"
   ]
  },
  {
   "cell_type": "code",
   "execution_count": 738,
   "metadata": {
    "scrolled": true
   },
   "outputs": [
    {
     "name": "stdout",
     "output_type": "stream",
     "text": [
      "   Population   Profit\n",
      "0      6.1101  17.5920\n",
      "1      5.5277   9.1302\n",
      "2      8.5186  13.6620\n",
      "3      7.0032  11.8540\n",
      "4      5.8598   6.8233\n"
     ]
    },
    {
     "data": {
      "text/html": [
       "<div>\n",
       "<style>\n",
       "    .dataframe thead tr:only-child th {\n",
       "        text-align: right;\n",
       "    }\n",
       "\n",
       "    .dataframe thead th {\n",
       "        text-align: left;\n",
       "    }\n",
       "\n",
       "    .dataframe tbody tr th {\n",
       "        vertical-align: top;\n",
       "    }\n",
       "</style>\n",
       "<table border=\"1\" class=\"dataframe\">\n",
       "  <thead>\n",
       "    <tr style=\"text-align: right;\">\n",
       "      <th></th>\n",
       "      <th>Population</th>\n",
       "      <th>Profit</th>\n",
       "    </tr>\n",
       "  </thead>\n",
       "  <tbody>\n",
       "    <tr>\n",
       "      <th>count</th>\n",
       "      <td>97.000000</td>\n",
       "      <td>97.000000</td>\n",
       "    </tr>\n",
       "    <tr>\n",
       "      <th>mean</th>\n",
       "      <td>8.159800</td>\n",
       "      <td>5.839135</td>\n",
       "    </tr>\n",
       "    <tr>\n",
       "      <th>std</th>\n",
       "      <td>3.869884</td>\n",
       "      <td>5.510262</td>\n",
       "    </tr>\n",
       "    <tr>\n",
       "      <th>min</th>\n",
       "      <td>5.026900</td>\n",
       "      <td>-2.680700</td>\n",
       "    </tr>\n",
       "    <tr>\n",
       "      <th>25%</th>\n",
       "      <td>5.707700</td>\n",
       "      <td>1.986900</td>\n",
       "    </tr>\n",
       "    <tr>\n",
       "      <th>50%</th>\n",
       "      <td>6.589400</td>\n",
       "      <td>4.562300</td>\n",
       "    </tr>\n",
       "    <tr>\n",
       "      <th>75%</th>\n",
       "      <td>8.578100</td>\n",
       "      <td>7.046700</td>\n",
       "    </tr>\n",
       "    <tr>\n",
       "      <th>max</th>\n",
       "      <td>22.203000</td>\n",
       "      <td>24.147000</td>\n",
       "    </tr>\n",
       "  </tbody>\n",
       "</table>\n",
       "</div>"
      ],
      "text/plain": [
       "       Population     Profit\n",
       "count   97.000000  97.000000\n",
       "mean     8.159800   5.839135\n",
       "std      3.869884   5.510262\n",
       "min      5.026900  -2.680700\n",
       "25%      5.707700   1.986900\n",
       "50%      6.589400   4.562300\n",
       "75%      8.578100   7.046700\n",
       "max     22.203000  24.147000"
      ]
     },
     "execution_count": 738,
     "metadata": {},
     "output_type": "execute_result"
    },
    {
     "data": {
      "image/png": "[encoded data removed]",
      "text/plain": [
       "<matplotlib.figure.Figure at 0x114f0ecd0>"
      ]
     },
     "metadata": {},
     "output_type": "display_data"
    }
   ],
   "source": [
    "df = pd.read_csv('ex1data1.txt',header = None,names=['Population', 'Profit'])\n",
    "\n",
    "print(df.head())\n",
    "\n",
    "fig, ax = plt.subplots()\n",
    "ax.scatter(df['Population'],df['Profit'])\n",
    "ax.set_xlabel('Population in 10,000s')\n",
    "ax.set_ylabel('Profit in $10,000s')\n",
    "df.describe()"
   ]
  },
  {
   "cell_type": "markdown",
   "metadata": {},
   "source": [
    "#### Gradient Descent\n",
    "    We will fit the the linear regression parameters to our data set using gradient descent.\n",
    "    \n",
    "#### Cost Function\n",
    "    The objective of linear regression is to minimize the cost function. \n",
    "$$ J(\\theta) = \\frac{1}{2m}\\sum_{i=1}^{m}\\big[(h_\\theta\\,(x^{(i)})-y^{(i)}\\,)^2\\big] $$\n",
    "\n",
    "   where the hypothesis is given by this liner model\n",
    "$$ h_\\theta\\,(x)= \\theta^Tx $$\n",
    "\n",
    "    "
   ]
  },
  {
   "cell_type": "code",
   "execution_count": 739,
   "metadata": {},
   "outputs": [
    {
     "data": {
      "text/html": [
       "<div>\n",
       "<style>\n",
       "    .dataframe thead tr:only-child th {\n",
       "        text-align: right;\n",
       "    }\n",
       "\n",
       "    .dataframe thead th {\n",
       "        text-align: left;\n",
       "    }\n",
       "\n",
       "    .dataframe tbody tr th {\n",
       "        vertical-align: top;\n",
       "    }\n",
       "</style>\n",
       "<table border=\"1\" class=\"dataframe\">\n",
       "  <thead>\n",
       "    <tr style=\"text-align: right;\">\n",
       "      <th></th>\n",
       "      <th>Ones</th>\n",
       "      <th>Population</th>\n",
       "      <th>Profit</th>\n",
       "    </tr>\n",
       "  </thead>\n",
       "  <tbody>\n",
       "    <tr>\n",
       "      <th>0</th>\n",
       "      <td>1</td>\n",
       "      <td>6.1101</td>\n",
       "      <td>17.5920</td>\n",
       "    </tr>\n",
       "    <tr>\n",
       "      <th>1</th>\n",
       "      <td>1</td>\n",
       "      <td>5.5277</td>\n",
       "      <td>9.1302</td>\n",
       "    </tr>\n",
       "    <tr>\n",
       "      <th>2</th>\n",
       "      <td>1</td>\n",
       "      <td>8.5186</td>\n",
       "      <td>13.6620</td>\n",
       "    </tr>\n",
       "    <tr>\n",
       "      <th>3</th>\n",
       "      <td>1</td>\n",
       "      <td>7.0032</td>\n",
       "      <td>11.8540</td>\n",
       "    </tr>\n",
       "    <tr>\n",
       "      <th>4</th>\n",
       "      <td>1</td>\n",
       "      <td>5.8598</td>\n",
       "      <td>6.8233</td>\n",
       "    </tr>\n",
       "  </tbody>\n",
       "</table>\n",
       "</div>"
      ],
      "text/plain": [
       "   Ones  Population   Profit\n",
       "0     1      6.1101  17.5920\n",
       "1     1      5.5277   9.1302\n",
       "2     1      8.5186  13.6620\n",
       "3     1      7.0032  11.8540\n",
       "4     1      5.8598   6.8233"
      ]
     },
     "execution_count": 739,
     "metadata": {},
     "output_type": "execute_result"
    }
   ],
   "source": [
    "#we add another dimension to our data to accommodate the θ intercept term which is also knwon as bias. \n",
    "#We also initialize the initial parameters to 0 and the learning rate alpha to 0.01.\n",
    "df.insert(0,'Ones',1)\n",
    "df.head()\n"
   ]
  },
  {
   "cell_type": "code",
   "execution_count": 740,
   "metadata": {
    "collapsed": true
   },
   "outputs": [],
   "source": [
    "\n",
    "def ComputeCost(X,y,theta):\n",
    "    #np.power raises the individual exponent to desired power - 2\n",
    "    hypothesis = np.power(((X*theta.T) -y),2,dtype=float128)\n",
    "    \n",
    "    #np.sum sums up all the elements of an array which is what we want \n",
    "    #according to the given formula\n",
    "    J  = np.sum(hypothesis) /(2*X.shape[0])\n",
    "    \n",
    "    return J\n",
    "    "
   ]
  },
  {
   "cell_type": "markdown",
   "metadata": {},
   "source": [
    "In order to calculate Cost function according to the above formula, we need to make sure that the type of X y and theta are compatible with each other. We will change matrix type for that reason."
   ]
  },
  {
   "cell_type": "code",
   "execution_count": 741,
   "metadata": {},
   "outputs": [
    {
     "name": "stdout",
     "output_type": "stream",
     "text": [
      "((97, 2), (97, 1), (1, 2))\n"
     ]
    }
   ],
   "source": [
    "\n",
    "theta = np.matrix(np.array([0,0]))\n",
    "#we need to put 1s in first column of X for theta_0 which is always multiplie\n",
    "#with X1 which is 1\n",
    "\n",
    "X = np.matrix(df[['Ones','Population']].values)\n",
    "Y = np.matrix(df[['Profit']].values)\n",
    "\n",
    "print(X.shape,Y.shape,theta.shape)\n"
   ]
  },
  {
   "cell_type": "code",
   "execution_count": 742,
   "metadata": {},
   "outputs": [
    {
     "name": "stdout",
     "output_type": "stream",
     "text": [
      "32.0727338775\n"
     ]
    }
   ],
   "source": [
    "print(ComputeCost(X,Y,theta))\n"
   ]
  },
  {
   "cell_type": "markdown",
   "metadata": {},
   "source": [
    "When we tested with (-1,2) theta values, the cost values have gone up. Our objective is to minimize by adjusting theta values. So we will create Gradient Descent to do the job. We will set alpha, learning rate which will tune the theta values with iterations. That is , we minimize the value of cost function by changing the values of vector theta, not X and Y. One way to keep track of the descending cost function value is printing at every iteration. \n",
    "![title](equation.png)"
   ]
  },
  {
   "cell_type": "code",
   "execution_count": 743,
   "metadata": {},
   "outputs": [
    {
     "data": {
      "text/plain": [
       "6.4244805296159109773"
      ]
     },
     "execution_count": 743,
     "metadata": {},
     "output_type": "execute_result"
    }
   ],
   "source": [
    "\n",
    "\n",
    "def gradientDescent(X, y, theta, alpha=0.01, num_iters=1500):\n",
    "    \n",
    "    J = np.zeros(num_iters,dtype=float128)\n",
    "    X_reshape = np.delete(X,[0],axis=1)\n",
    "    \n",
    "    for iter in np.arange(num_iters):\n",
    "        \n",
    "        error = (X*theta.T) - y\n",
    "        square_error = np.multiply(error,X_reshape)\n",
    "        \n",
    "        \n",
    "        theta_change= alpha* (1/float(X.shape[0]))* np.sum(square_error)\n",
    "        theta = theta - theta_change\n",
    "        \n",
    "        J[iter] = ComputeCost(X, y, theta)\n",
    "        \n",
    "        \n",
    "    return(theta,J)\n",
    "\n",
    "theta = np.matrix(np.array([0,0]))\n",
    "\n",
    "theta,J =gradientDescent(X,Y,theta)\n",
    "ComputeCost(X,Y,theta)\n"
   ]
  },
  {
   "cell_type": "code",
   "execution_count": 749,
   "metadata": {},
   "outputs": [
    {
     "name": "stdout",
     "output_type": "stream",
     "text": [
      "0.489361702128\n"
     ]
    },
    {
     "data": {
      "text/plain": [
       "0.3118481760540427529"
      ]
     },
     "execution_count": 749,
     "metadata": {},
     "output_type": "execute_result"
    }
   ],
   "source": [
    "df_multiple = pd.read_csv('ex1data2.txt',header = None,names=['Size', '#bedrooms','Price'])\n",
    "df_multiple = (df_multiple - df_multiple.mean()) / df_multiple.std()  \n",
    "df_multiple.insert(0,'Ones',1)\n",
    "df.head()\n",
    "theta_mul = np.matrix(np.array([0,0,0]))\n",
    "#we need to put 1s in first column of X for theta_0 which is always multiplie\n",
    "#with X1 which is 1\n",
    "\n",
    "X_mul = np.matrix(df_multiple[['Ones','Size','#bedrooms']].values)\n",
    "Y_mul = np.matrix(df_multiple[['Price']].values)\n",
    "\n",
    "\n",
    "print(ComputeCost(X_mul,Y_mul,theta_mul))\n",
    "theta_mul,J_mul =gradientDescent(X_mul,Y_mul,theta_mul)\n",
    "\n",
    "ComputeCost(X_mul,Y_mul,theta_mul)"
   ]
  },
  {
   "cell_type": "code",
   "execution_count": 746,
   "metadata": {},
   "outputs": [
    {
     "name": "stdout",
     "output_type": "stream",
     "text": [
      "8.95394275195\n"
     ]
    }
   ],
   "source": [
    "regr = linear_model.LinearRegression()\n",
    "regr.fit(X,Y)\n",
    "square_error= np.power(regr.predict(X)-Y,2)\n",
    "mean_squaer_error = np.mean(np.power(regr.predict(X)-Y,2))\n",
    "print(mean_squaer_error)"
   ]
  },
  {
   "cell_type": "code",
   "execution_count": 747,
   "metadata": {
    "scrolled": true
   },
   "outputs": [
    {
     "name": "stdout",
     "output_type": "stream",
     "text": [
      "0.261372961078\n"
     ]
    }
   ],
   "source": [
    "regr = linear_model.LinearRegression()\n",
    "regr.fit(X_mul,Y_mul)\n",
    "square_error= np.power(regr.predict(X_mul)-Y_mul,2)\n",
    "mean_squaer_error = np.mean(square_error)\n",
    "print(mean_squaer_error)"
   ]
  },
  {
   "cell_type": "code",
   "execution_count": null,
   "metadata": {
    "collapsed": true
   },
   "outputs": [],
   "source": []
  }
 ],
 "metadata": {
  "kernelspec": {
   "display_name": "Python [conda root]",
   "language": "python",
   "name": "conda-root-py"
  },
  "language_info": {
   "codemirror_mode": {
    "name": "ipython",
    "version": 2
   },
   "file_extension": ".py",
   "mimetype": "text/x-python",
   "name": "python",
   "nbconvert_exporter": "python",
   "pygments_lexer": "ipython2",
   "version": "2.7.13"
  }
 },
 "nbformat": 4,
 "nbformat_minor": 2
}
